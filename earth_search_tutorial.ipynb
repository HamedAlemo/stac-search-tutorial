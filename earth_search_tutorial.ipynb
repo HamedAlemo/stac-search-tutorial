{
 "cells": [
  {
   "cell_type": "markdown",
   "id": "a9dbb87d-1d6d-4d41-9753-75885c1d5e94",
   "metadata": {},
   "source": [
    "# Tutorial for Searching a STAC Catalog"
   ]
  },
  {
   "cell_type": "markdown",
   "id": "242328c3-2e38-4692-b26a-a26a5b01ac7f",
   "metadata": {},
   "source": [
    "In this tutorial you will learn how to connect to a STAC API and search various datasets available for query. You will also search for specific items using a range of query parameters.  "
   ]
  },
  {
   "cell_type": "markdown",
   "id": "ed401529-c575-4333-9024-58a17b97dffd",
   "metadata": {},
   "source": [
    "We will use the Earth Search API developed by Element84 for satellite datasets available on AWS S3 Storage (note that only those datasets that have a STAC catalog are served through this API). "
   ]
  },
  {
   "cell_type": "markdown",
   "id": "4bcf5003-2abb-48dc-b9dc-6e56cc46193d",
   "metadata": {},
   "source": [
    "We will use the PySTAC pakcage for this tutorial"
   ]
  },
  {
   "cell_type": "code",
   "execution_count": null,
   "id": "73095163-44e0-4ef8-b754-d29bc89a0ce3",
   "metadata": {
    "tags": []
   },
   "outputs": [],
   "source": [
    "from pystac_client import Client"
   ]
  },
  {
   "cell_type": "code",
   "execution_count": null,
   "id": "969a411b-a40d-4328-9a0e-a4e600ce9e96",
   "metadata": {
    "tags": []
   },
   "outputs": [],
   "source": [
    "api_url = \"https://earth-search.aws.element84.com/v1\""
   ]
  },
  {
   "cell_type": "code",
   "execution_count": null,
   "id": "d1d07e13-b494-40a6-af8e-abffa211879c",
   "metadata": {
    "tags": []
   },
   "outputs": [],
   "source": [
    "client = Client.open(api_url)"
   ]
  },
  {
   "cell_type": "markdown",
   "id": "0215259b-3f13-411d-b966-d47b63dda72c",
   "metadata": {},
   "source": [
    "## Find Collections"
   ]
  },
  {
   "cell_type": "markdown",
   "id": "9044ecf9-01ac-4886-910a-020bbd85d6e5",
   "metadata": {},
   "source": [
    "First, we would like to see what collections are available from this API. "
   ]
  },
  {
   "cell_type": "code",
   "execution_count": null,
   "id": "a775236d-3974-4a9b-9b3d-29202dd12c3a",
   "metadata": {
    "tags": []
   },
   "outputs": [],
   "source": [
    "collections = client.get_collections()"
   ]
  },
  {
   "cell_type": "code",
   "execution_count": null,
   "id": "ab52bf56-0401-4924-9f3e-955d4235d382",
   "metadata": {
    "tags": []
   },
   "outputs": [],
   "source": [
    "for collection in collections:\n",
    "    print(collection)"
   ]
  },
  {
   "cell_type": "markdown",
   "id": "daa21828-5f9f-4aff-99d6-0d8fac64efd4",
   "metadata": {},
   "source": [
    "In order to get more information about a specific collection, you can use `get_collection` function:"
   ]
  },
  {
   "cell_type": "code",
   "execution_count": null,
   "id": "52fda1fa-f4c8-4f3f-9230-746c3f45a25f",
   "metadata": {
    "tags": []
   },
   "outputs": [],
   "source": [
    "client.get_collection(\"sentinel-1-grd\")"
   ]
  },
  {
   "cell_type": "markdown",
   "id": "0eedc818-01b6-42fd-8452-85c9217808fe",
   "metadata": {},
   "source": [
    "## Search Items"
   ]
  },
  {
   "cell_type": "markdown",
   "id": "616da77f-7597-4404-b057-a03f36023940",
   "metadata": {},
   "source": [
    "Let's use Leafmap to select a point where we are interested to find a satellite imagery"
   ]
  },
  {
   "cell_type": "code",
   "execution_count": null,
   "id": "cc69cead-68b2-4b48-8bd8-0481cb584f22",
   "metadata": {
    "tags": []
   },
   "outputs": [],
   "source": [
    "import leafmap"
   ]
  },
  {
   "cell_type": "code",
   "execution_count": null,
   "id": "26467055-a38b-43fd-9c16-42e4fb9e245d",
   "metadata": {
    "tags": []
   },
   "outputs": [],
   "source": [
    "m = leafmap.Map(center=[42.250809, -71.822833], zoom=16, height=\"800px\")\n",
    "m"
   ]
  },
  {
   "cell_type": "markdown",
   "id": "074b3bdc-7b69-4f73-8b4e-1aa38273bff4",
   "metadata": {},
   "source": [
    "Pan and zoom the map to find an area of interest, then use the tools on the top left of the map to select a point on the map. \n"
   ]
  },
  {
   "cell_type": "code",
   "execution_count": null,
   "id": "ad3ba417-2fe0-4033-bd34-c94834288ac7",
   "metadata": {
    "tags": []
   },
   "outputs": [],
   "source": [
    "if m.user_rois is not None:\n",
    "    point = m.user_rois['features'][0]['geometry']\n",
    "else:\n",
    "    point = dict(type=\"Point\", coordinates=(42.250809, -71.822833))"
   ]
  },
  {
   "cell_type": "code",
   "execution_count": null,
   "id": "5b29ebe0-f898-499a-9d79-f71f82623ca9",
   "metadata": {
    "tags": []
   },
   "outputs": [],
   "source": [
    "s2_collection = \"sentinel-2-l2a\"  # Sentinel-2, Level 2A, Cloud Optimized GeoTiffs (COGs)"
   ]
  },
  {
   "cell_type": "code",
   "execution_count": null,
   "id": "a7b4b5fb-2df3-4765-8a52-86fad1e74da9",
   "metadata": {
    "tags": []
   },
   "outputs": [],
   "source": [
    "search = client.search(\n",
    "    collections=[s2_collection],\n",
    "    intersects=point,\n",
    "    max_items=12,\n",
    ")"
   ]
  },
  {
   "cell_type": "code",
   "execution_count": null,
   "id": "f1bad38a-2dce-4578-b6fc-c6a7cde5ede9",
   "metadata": {
    "tags": []
   },
   "outputs": [],
   "source": [
    "print(search.matched())"
   ]
  },
  {
   "cell_type": "code",
   "execution_count": null,
   "id": "895bc943-c217-499c-8ccc-e0c7cf354d0e",
   "metadata": {
    "tags": []
   },
   "outputs": [],
   "source": [
    "items = search.item_collection()"
   ]
  },
  {
   "cell_type": "code",
   "execution_count": null,
   "id": "4512c9e9-3fb1-41dc-9a25-ccd996ff2b36",
   "metadata": {
    "tags": []
   },
   "outputs": [],
   "source": [
    "len(items)"
   ]
  },
  {
   "cell_type": "markdown",
   "id": "6a7b15ec-a459-4eb6-8af9-354a82f29e43",
   "metadata": {},
   "source": [
    "Let's investigate an item"
   ]
  },
  {
   "cell_type": "code",
   "execution_count": null,
   "id": "89e7ce31-ed97-48f8-9d1e-de1c22f37a0a",
   "metadata": {
    "tags": []
   },
   "outputs": [],
   "source": []
  },
  {
   "cell_type": "code",
   "execution_count": null,
   "id": "da44c2e2-2a8b-46e6-a84b-2ceb6e94cbb7",
   "metadata": {
    "tags": []
   },
   "outputs": [],
   "source": [
    "print(items[0].datetime)"
   ]
  },
  {
   "cell_type": "code",
   "execution_count": null,
   "id": "efa3ead6-1e74-469c-83b7-74f387be6eee",
   "metadata": {
    "tags": []
   },
   "outputs": [],
   "source": [
    "print(items[0].geometry)"
   ]
  },
  {
   "cell_type": "markdown",
   "id": "266bfc70-019b-4372-8d74-02ad567dfff3",
   "metadata": {},
   "source": [
    "## Query Metadata"
   ]
  },
  {
   "cell_type": "markdown",
   "id": "d9e628f2-64be-4120-b4ef-bbe70adf079e",
   "metadata": {},
   "source": [
    "Items in STAC catalog have much more metadata (than location and time) that you can query and only return results that match your query parameters. \n",
    "One such metadata property is cloud cover percentage. Cloud cover is recorded in the metadata named `eo:cloud_cover`, and it ranges from 0 to 1. In the following, we are going to find scenes that only have a cloud cover of less than 15%."
   ]
  },
  {
   "cell_type": "code",
   "execution_count": null,
   "id": "ed855bf6-0d08-4355-8c3e-06129618946b",
   "metadata": {
    "tags": []
   },
   "outputs": [],
   "source": [
    "search = client.search(\n",
    "    collections=[s2_collection],\n",
    "    intersects=point,\n",
    "    datetime=\"2023-01-01/2023-09-22\"\n",
    ")"
   ]
  },
  {
   "cell_type": "code",
   "execution_count": null,
   "id": "e18a9d29-4f93-4246-9880-e531119dc80b",
   "metadata": {
    "tags": []
   },
   "outputs": [],
   "source": [
    "print(search.matched())"
   ]
  },
  {
   "cell_type": "code",
   "execution_count": null,
   "id": "a7b5f4f9-86c0-4a2e-8558-a8fe5c9959a1",
   "metadata": {},
   "outputs": [],
   "source": []
  },
  {
   "cell_type": "code",
   "execution_count": null,
   "id": "3e723bfd-05db-47fa-ba14-7d5a0143e420",
   "metadata": {
    "tags": []
   },
   "outputs": [],
   "source": [
    "search = client.search(\n",
    "    collections=[s2_collection],\n",
    "    intersects=point,\n",
    "    query=[\"eo:cloud_cover<5\"],\n",
    "    max_items=10\n",
    ")"
   ]
  },
  {
   "cell_type": "code",
   "execution_count": null,
   "id": "60c256f2-5414-4e3f-a945-a4916f3cdeec",
   "metadata": {
    "tags": []
   },
   "outputs": [],
   "source": [
    "print(search.matched())"
   ]
  },
  {
   "cell_type": "code",
   "execution_count": null,
   "id": "7e8a5791-4460-4157-8f9c-544367fe51c2",
   "metadata": {
    "tags": []
   },
   "outputs": [],
   "source": [
    "items = search.item_collection()"
   ]
  },
  {
   "cell_type": "code",
   "execution_count": null,
   "id": "40f7953f-556c-4e7d-8542-cfc2207e1797",
   "metadata": {
    "tags": []
   },
   "outputs": [],
   "source": [
    "len(items)"
   ]
  },
  {
   "cell_type": "code",
   "execution_count": null,
   "id": "1221f4d7-87d1-491f-aff6-298e3e965e80",
   "metadata": {
    "tags": []
   },
   "outputs": [],
   "source": [
    "items[0]"
   ]
  },
  {
   "cell_type": "code",
   "execution_count": null,
   "id": "a3619ca1-f9d4-4205-a0e5-deeb3f1d14d3",
   "metadata": {
    "tags": []
   },
   "outputs": [],
   "source": [
    "items.save_object(\"search.json\")"
   ]
  },
  {
   "cell_type": "markdown",
   "id": "5fcbefbc-5a67-472e-b657-ee2ebd82c41e",
   "metadata": {},
   "source": [
    "## Access Assets"
   ]
  },
  {
   "cell_type": "code",
   "execution_count": null,
   "id": "8ef95249-91e3-4a8e-9c4c-fbfa5be6d25a",
   "metadata": {
    "tags": []
   },
   "outputs": [],
   "source": [
    "assets = items[2].assets  # first item's asset dictionary\n",
    "print(assets.keys())"
   ]
  },
  {
   "cell_type": "code",
   "execution_count": null,
   "id": "12a925cb-b2b1-4be9-af4f-8d32a093c250",
   "metadata": {
    "tags": []
   },
   "outputs": [],
   "source": [
    "for key, asset in assets.items():\n",
    "    print(f\"{key}: {asset.title}\")"
   ]
  },
  {
   "cell_type": "code",
   "execution_count": null,
   "id": "dfe329f5-2a39-4bfa-8266-9ab3a9d851e2",
   "metadata": {
    "tags": []
   },
   "outputs": [],
   "source": [
    "print(assets[\"thumbnail\"].href)"
   ]
  },
  {
   "cell_type": "code",
   "execution_count": null,
   "id": "226c24d8-725c-4159-996a-2c166b4097d6",
   "metadata": {
    "tags": []
   },
   "outputs": [],
   "source": [
    "import requests\n",
    "img_data = requests.get(assets[\"thumbnail\"].href).content"
   ]
  },
  {
   "cell_type": "code",
   "execution_count": null,
   "id": "4db39a97-84d4-46ca-8117-0fa74da8158f",
   "metadata": {
    "tags": []
   },
   "outputs": [],
   "source": [
    "import matplotlib.pyplot as plt\n",
    "from PIL import Image\n",
    "import io\n",
    "plt.figure(figsize=(10, 10))\n",
    "plt.imshow(Image.open(io.BytesIO(img_data)))"
   ]
  },
  {
   "cell_type": "code",
   "execution_count": null,
   "id": "1a820df8-e1f8-44dc-a159-b3e28b97051b",
   "metadata": {},
   "outputs": [],
   "source": []
  },
  {
   "cell_type": "code",
   "execution_count": null,
   "id": "81afbd72-c5ed-49d7-be8c-4c32df75b53d",
   "metadata": {},
   "outputs": [],
   "source": []
  },
  {
   "cell_type": "code",
   "execution_count": null,
   "id": "8a55df90-421f-407e-a39d-6622e6d3babe",
   "metadata": {},
   "outputs": [],
   "source": [
    "import rioxarray\n",
    "nir_href = assets[\"nir\"].href\n",
    "nir = rioxarray.open_rasterio(nir_href)\n",
    "nir"
   ]
  },
  {
   "cell_type": "code",
   "execution_count": null,
   "id": "6b6b2e06-a65c-4527-88e0-77c3ec3e97c7",
   "metadata": {
    "tags": []
   },
   "outputs": [],
   "source": [
    "nir[0,1400:2000,4200:5000].mean()"
   ]
  },
  {
   "cell_type": "code",
   "execution_count": null,
   "id": "91f3a9a2-9a38-4a0e-a051-51ab5855c5d3",
   "metadata": {},
   "outputs": [],
   "source": [
    "nir[0,1500:2000,6200:7000].rio.to_raster(\"nir_subset.tif\")\n"
   ]
  }
 ],
 "metadata": {
  "kernelspec": {
   "display_name": "Python 3 (ipykernel)",
   "language": "python",
   "name": "python3"
  },
  "language_info": {
   "codemirror_mode": {
    "name": "ipython",
    "version": 3
   },
   "file_extension": ".py",
   "mimetype": "text/x-python",
   "name": "python",
   "nbconvert_exporter": "python",
   "pygments_lexer": "ipython3",
   "version": "3.10.12"
  }
 },
 "nbformat": 4,
 "nbformat_minor": 5
}
