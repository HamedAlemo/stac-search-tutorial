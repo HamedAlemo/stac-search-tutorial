{
 "cells": [
  {
   "cell_type": "markdown",
   "id": "a9dbb87d-1d6d-4d41-9753-75885c1d5e94",
   "metadata": {},
   "source": [
    "# Tutorial for Searching a STAC Catalog"
   ]
  },
  {
   "cell_type": "markdown",
   "id": "242328c3-2e38-4692-b26a-a26a5b01ac7f",
   "metadata": {},
   "source": [
    "In this tutorial you will learn how to connect to a STAC API and search various datasets available for query. You will also search for specific items using a range of query parameters.  "
   ]
  },
  {
   "cell_type": "markdown",
   "id": "ed401529-c575-4333-9024-58a17b97dffd",
   "metadata": {},
   "source": [
    "We will use the [Earth Search API](https://www.element84.com/earth-search/) developed by Element84 for satellite datasets available on AWS S3 Storage (note that only those datasets that have a STAC catalog are served through this API). \n",
    "You can access the STAC catalog of the API [here](https://earth-search.aws.element84.com/v1). "
   ]
  },
  {
   "cell_type": "markdown",
   "id": "4bcf5003-2abb-48dc-b9dc-6e56cc46193d",
   "metadata": {},
   "source": [
    "We will use the PySTAC pakcage for this tutorial. Check the documentation [here](https://pystac.readthedocs.io/en/stable/), and [these](https://pystac-client.readthedocs.io/en/latest/usage.html#itemsearch) specific guides about using ItemSearch"
   ]
  },
  {
   "cell_type": "markdown",
   "id": "a823f4ce-e3ad-412f-a59f-dbb1b8d043da",
   "metadata": {},
   "source": [
    "***Attribution***: Parts of this notebook are inspired by the great tutorial on **Access satellite imagery using Python** ([link](https://carpentries-incubator.github.io/geospatial-python/instructor/05-access-data.html#search-a-stac-catalog))"
   ]
  },
  {
   "cell_type": "code",
   "execution_count": null,
   "id": "73095163-44e0-4ef8-b754-d29bc89a0ce3",
   "metadata": {
    "tags": []
   },
   "outputs": [],
   "source": [
    "from pystac_client import Client"
   ]
  },
  {
   "cell_type": "code",
   "execution_count": null,
   "id": "969a411b-a40d-4328-9a0e-a4e600ce9e96",
   "metadata": {
    "tags": []
   },
   "outputs": [],
   "source": [
    "api_url = \"https://earth-search.aws.element84.com/v1\""
   ]
  },
  {
   "cell_type": "code",
   "execution_count": null,
   "id": "d1d07e13-b494-40a6-af8e-abffa211879c",
   "metadata": {
    "tags": []
   },
   "outputs": [],
   "source": [
    "client = Client.open(api_url)"
   ]
  },
  {
   "cell_type": "markdown",
   "id": "0215259b-3f13-411d-b966-d47b63dda72c",
   "metadata": {},
   "source": [
    "## Find Collections"
   ]
  },
  {
   "cell_type": "markdown",
   "id": "9044ecf9-01ac-4886-910a-020bbd85d6e5",
   "metadata": {},
   "source": [
    "First, we would like to see what collections are available from this API. "
   ]
  },
  {
   "cell_type": "code",
   "execution_count": null,
   "id": "a775236d-3974-4a9b-9b3d-29202dd12c3a",
   "metadata": {
    "tags": []
   },
   "outputs": [],
   "source": [
    "collections = client.get_collections()"
   ]
  },
  {
   "cell_type": "code",
   "execution_count": null,
   "id": "ab52bf56-0401-4924-9f3e-955d4235d382",
   "metadata": {
    "tags": []
   },
   "outputs": [],
   "source": [
    "for collection in collections:\n",
    "    print(collection)"
   ]
  },
  {
   "cell_type": "markdown",
   "id": "daa21828-5f9f-4aff-99d6-0d8fac64efd4",
   "metadata": {},
   "source": [
    "In order to get more information about a specific collection, you can use `get_collection` function:"
   ]
  },
  {
   "cell_type": "code",
   "execution_count": null,
   "id": "52fda1fa-f4c8-4f3f-9230-746c3f45a25f",
   "metadata": {
    "tags": []
   },
   "outputs": [],
   "source": [
    "s1_collection = client.get_collection(\"sentinel-1-grd\")\n",
    "s1_collection"
   ]
  },
  {
   "cell_type": "markdown",
   "id": "0eedc818-01b6-42fd-8452-85c9217808fe",
   "metadata": {},
   "source": [
    "## Search Items"
   ]
  },
  {
   "cell_type": "markdown",
   "id": "616da77f-7597-4404-b057-a03f36023940",
   "metadata": {},
   "source": [
    "Let's use Leafmap to select a point where we are interested to find a satellite imagery"
   ]
  },
  {
   "cell_type": "code",
   "execution_count": null,
   "id": "cc69cead-68b2-4b48-8bd8-0481cb584f22",
   "metadata": {
    "tags": []
   },
   "outputs": [],
   "source": [
    "import leafmap"
   ]
  },
  {
   "cell_type": "code",
   "execution_count": null,
   "id": "26467055-a38b-43fd-9c16-42e4fb9e245d",
   "metadata": {
    "tags": []
   },
   "outputs": [],
   "source": [
    "m = leafmap.Map(center=[42.250809, -71.822833], zoom=16, height=\"800px\")\n",
    "m"
   ]
  },
  {
   "cell_type": "markdown",
   "id": "074b3bdc-7b69-4f73-8b4e-1aa38273bff4",
   "metadata": {},
   "source": [
    "Pan and zoom the map to find an area of interest, then use the tools on the top left of the map to select a point on the map. \n"
   ]
  },
  {
   "cell_type": "code",
   "execution_count": null,
   "id": "ad3ba417-2fe0-4033-bd34-c94834288ac7",
   "metadata": {
    "tags": []
   },
   "outputs": [],
   "source": [
    "if m.user_rois is not None:\n",
    "    point = m.user_rois['features'][0]['geometry']\n",
    "else:\n",
    "    point = dict(type=\"Point\", coordinates=(42.250809, -71.822833))"
   ]
  },
  {
   "cell_type": "markdown",
   "id": "e9f261e3-c870-4333-a72a-d0be5d024264",
   "metadata": {},
   "source": [
    "We are interested to search for Sentinel-2 imagery that intersects with the point we selected in the previous step. So we will use the `search` function and insert `sentinel-2-l2a` as our collection of interest. We also use the `intersects` property to filter the scenes that intersect with our point of interest. \n"
   ]
  },
  {
   "cell_type": "code",
   "execution_count": null,
   "id": "a7b4b5fb-2df3-4765-8a52-86fad1e74da9",
   "metadata": {
    "tags": []
   },
   "outputs": [],
   "source": [
    "search_results = client.search(\n",
    "    collections=[\"sentinel-2-l2a\"],\n",
    "    intersects=point,\n",
    "    max_items=12,\n",
    ")"
   ]
  },
  {
   "cell_type": "code",
   "execution_count": null,
   "id": "f1bad38a-2dce-4578-b6fc-c6a7cde5ede9",
   "metadata": {
    "tags": []
   },
   "outputs": [],
   "source": [
    "print(search_results.matched())"
   ]
  },
  {
   "cell_type": "markdown",
   "id": "402bb00b-179b-4d09-acbd-520bb14d980e",
   "metadata": {},
   "source": [
    "The number that is returned in the previous step is more than 12 that we had identified in our search criteria. But this doesn't mean all the metadata about these scenes haven been retrieved. This just shows how many scenes have `matched` our search criteria. In the next cell, we will call `item_collection()` to retrieve the metadata, and check how many of them are retrieved. "
   ]
  },
  {
   "cell_type": "code",
   "execution_count": null,
   "id": "895bc943-c217-499c-8ccc-e0c7cf354d0e",
   "metadata": {
    "tags": []
   },
   "outputs": [],
   "source": [
    "items = search_results.item_collection()"
   ]
  },
  {
   "cell_type": "code",
   "execution_count": null,
   "id": "4512c9e9-3fb1-41dc-9a25-ccd996ff2b36",
   "metadata": {
    "tags": []
   },
   "outputs": [],
   "source": [
    "len(items)"
   ]
  },
  {
   "cell_type": "markdown",
   "id": "6a7b15ec-a459-4eb6-8af9-354a82f29e43",
   "metadata": {},
   "source": [
    "Now, let's investigate an item"
   ]
  },
  {
   "cell_type": "code",
   "execution_count": null,
   "id": "89e7ce31-ed97-48f8-9d1e-de1c22f37a0a",
   "metadata": {
    "tags": []
   },
   "outputs": [],
   "source": [
    "items[0]"
   ]
  },
  {
   "cell_type": "code",
   "execution_count": null,
   "id": "da44c2e2-2a8b-46e6-a84b-2ceb6e94cbb7",
   "metadata": {
    "tags": []
   },
   "outputs": [],
   "source": [
    "print(items[0].datetime)"
   ]
  },
  {
   "cell_type": "code",
   "execution_count": null,
   "id": "efa3ead6-1e74-469c-83b7-74f387be6eee",
   "metadata": {
    "tags": []
   },
   "outputs": [],
   "source": [
    "print(items[0].geometry)"
   ]
  },
  {
   "cell_type": "markdown",
   "id": "45b3b97a-ec77-4976-aaea-8ec723e430b1",
   "metadata": {},
   "source": [
    "We can now use the item's geometry and confirm that the returned scene intersects with our point of interest. "
   ]
  },
  {
   "cell_type": "code",
   "execution_count": null,
   "id": "7147f4b8-b1d7-4d28-a357-1597781d8f63",
   "metadata": {
    "tags": []
   },
   "outputs": [],
   "source": [
    "m.add_geojson(items[0].geometry)\n",
    "m"
   ]
  },
  {
   "cell_type": "markdown",
   "id": "266bfc70-019b-4372-8d74-02ad567dfff3",
   "metadata": {},
   "source": [
    "## Query Metadata"
   ]
  },
  {
   "cell_type": "markdown",
   "id": "d9e628f2-64be-4120-b4ef-bbe70adf079e",
   "metadata": {},
   "source": [
    "Items in STAC catalog have much more metadata (in addition to location) that you can query and only return results that match your query parameters. \n",
    "Let's use the `datetime` property and only search for scenes in 2023:"
   ]
  },
  {
   "cell_type": "code",
   "execution_count": null,
   "id": "ed855bf6-0d08-4355-8c3e-06129618946b",
   "metadata": {
    "tags": []
   },
   "outputs": [],
   "source": [
    "search = client.search(\n",
    "    collections=[\"sentinel-2-l2a\"],\n",
    "    intersects=point,\n",
    "    datetime=\"2023-01-01/2023-09-22\"\n",
    ")"
   ]
  },
  {
   "cell_type": "code",
   "execution_count": null,
   "id": "e18a9d29-4f93-4246-9880-e531119dc80b",
   "metadata": {
    "tags": []
   },
   "outputs": [],
   "source": [
    "print(search.matched())"
   ]
  },
  {
   "cell_type": "markdown",
   "id": "ae3e9b52-8424-4d25-a8bb-7789d0600675",
   "metadata": {},
   "source": [
    "Another property which is key for multispectral imagery is cloud cover; ideally we would be interested to find scenes with low cloud cover. Cloud cover is recorded in the metadata named `eo:cloud_cover`, and it ranges from 0 to 1. In the following, we are going to find scenes that only have a cloud cover of less than 5% in 2023."
   ]
  },
  {
   "cell_type": "code",
   "execution_count": null,
   "id": "3e723bfd-05db-47fa-ba14-7d5a0143e420",
   "metadata": {
    "tags": []
   },
   "outputs": [],
   "source": [
    "search = client.search(\n",
    "    collections=[\"sentinel-2-l2a\"],\n",
    "    intersects=point,\n",
    "    datetime=\"2023-01-01/2023-09-22\",\n",
    "    query=[\"eo:cloud_cover<5\"],\n",
    "    max_items=10\n",
    ")"
   ]
  },
  {
   "cell_type": "code",
   "execution_count": null,
   "id": "60c256f2-5414-4e3f-a945-a4916f3cdeec",
   "metadata": {
    "tags": []
   },
   "outputs": [],
   "source": [
    "print(search.matched())"
   ]
  },
  {
   "cell_type": "markdown",
   "id": "d1dc91e5-830b-49bd-a84c-41d84ff1354b",
   "metadata": {},
   "source": [
    "Another useful property of the STAC API is that you can sort the results using a metadata property. For example, let's sort our results based on the cloud cover value:"
   ]
  },
  {
   "cell_type": "code",
   "execution_count": null,
   "id": "2a060399-08b5-42f6-985a-14938db84005",
   "metadata": {
    "tags": []
   },
   "outputs": [],
   "source": [
    "search = client.search(\n",
    "    collections=[\"sentinel-2-l2a\"],\n",
    "    intersects=point,\n",
    "    datetime=\"2023-01-01/2023-09-22\",\n",
    "    query=[\"eo:cloud_cover<5\"],\n",
    "    sortby=[\"+properties.eo:cloud_cover\"],\n",
    "    max_items=10\n",
    ")"
   ]
  },
  {
   "cell_type": "code",
   "execution_count": null,
   "id": "7e8a5791-4460-4157-8f9c-544367fe51c2",
   "metadata": {
    "tags": []
   },
   "outputs": [],
   "source": [
    "items = search.item_collection()"
   ]
  },
  {
   "cell_type": "code",
   "execution_count": null,
   "id": "40f7953f-556c-4e7d-8542-cfc2207e1797",
   "metadata": {
    "tags": []
   },
   "outputs": [],
   "source": [
    "len(items)"
   ]
  },
  {
   "cell_type": "code",
   "execution_count": null,
   "id": "b767215a-ec0e-495d-a3bf-02fd7cffcdf5",
   "metadata": {
    "tags": []
   },
   "outputs": [],
   "source": [
    "for item in items:\n",
    "    print(item.properties[\"eo:cloud_cover\"])"
   ]
  },
  {
   "cell_type": "markdown",
   "id": "1f38142f-f503-459d-9323-5cf8071da858",
   "metadata": {},
   "source": [
    "You can also save the results of the search into a JSON file if you need it later on. "
   ]
  },
  {
   "cell_type": "code",
   "execution_count": null,
   "id": "a3619ca1-f9d4-4205-a0e5-deeb3f1d14d3",
   "metadata": {
    "tags": []
   },
   "outputs": [],
   "source": [
    "items.save_object(\"search.json\")"
   ]
  },
  {
   "cell_type": "markdown",
   "id": "5fcbefbc-5a67-472e-b657-ee2ebd82c41e",
   "metadata": {},
   "source": [
    "## Access Assets"
   ]
  },
  {
   "cell_type": "markdown",
   "id": "5cec25c2-d52f-4f6c-a70c-0105ba2d9d04",
   "metadata": {},
   "source": [
    "Next, we will use the assets of the returned items and retrieve the actual scene. "
   ]
  },
  {
   "cell_type": "code",
   "execution_count": null,
   "id": "060ce4a4-06a7-49ef-8216-370476481319",
   "metadata": {
    "tags": []
   },
   "outputs": [],
   "source": [
    "#Let's look at the second item:\n",
    "selected_item = items[1]"
   ]
  },
  {
   "cell_type": "code",
   "execution_count": null,
   "id": "8ef95249-91e3-4a8e-9c4c-fbfa5be6d25a",
   "metadata": {
    "tags": []
   },
   "outputs": [],
   "source": [
    "# Here are the assets available for this item\n",
    "assets = selected_item.assets\n",
    "print(assets.keys())"
   ]
  },
  {
   "cell_type": "code",
   "execution_count": null,
   "id": "12a925cb-b2b1-4be9-af4f-8d32a093c250",
   "metadata": {
    "tags": []
   },
   "outputs": [],
   "source": [
    "for key, asset in assets.items():\n",
    "    print(f\"{key}: {asset.title}\")"
   ]
  },
  {
   "cell_type": "markdown",
   "id": "cee28cfd-3df7-4b7a-b6d4-48663d3520ba",
   "metadata": {},
   "source": [
    "Each asset has a link which can be accessed from the `href` property. This can be a HTTP URL or a link to S3 for this STAC catalog. For example, let's look at the link for the thumbnail of the scene.  "
   ]
  },
  {
   "cell_type": "code",
   "execution_count": null,
   "id": "dfe329f5-2a39-4bfa-8266-9ab3a9d851e2",
   "metadata": {
    "tags": []
   },
   "outputs": [],
   "source": [
    "print(assets[\"thumbnail\"].href)"
   ]
  },
  {
   "cell_type": "markdown",
   "id": "d07cc0b6-708a-404b-ac4e-a84f51487b67",
   "metadata": {},
   "source": [
    "Since this is a HTTP link, we can use Python requests package to load the image. "
   ]
  },
  {
   "cell_type": "code",
   "execution_count": null,
   "id": "226c24d8-725c-4159-996a-2c166b4097d6",
   "metadata": {
    "tags": []
   },
   "outputs": [],
   "source": [
    "import requests\n",
    "img_data = requests.get(assets[\"thumbnail\"].href).content"
   ]
  },
  {
   "cell_type": "code",
   "execution_count": null,
   "id": "4db39a97-84d4-46ca-8117-0fa74da8158f",
   "metadata": {
    "tags": []
   },
   "outputs": [],
   "source": [
    "import matplotlib.pyplot as plt\n",
    "from PIL import Image\n",
    "import io\n",
    "plt.figure(figsize=(10, 10))\n",
    "plt.imshow(Image.open(io.BytesIO(img_data)))"
   ]
  },
  {
   "cell_type": "markdown",
   "id": "cceac206-94c5-4bef-8905-6e0ecedd0249",
   "metadata": {},
   "source": [
    "Now, let's load one of the COG assets into memory. This is a large scene, and we don't necessary want to load all the data at once. There are various packages to do this. Here we will use `rioxarray`, you can also use [`stacstack`](https://stackstac.readthedocs.io/en/latest/) and [`odc-stac`](https://odc-stac.readthedocs.io/)."
   ]
  },
  {
   "cell_type": "code",
   "execution_count": null,
   "id": "8a55df90-421f-407e-a39d-6622e6d3babe",
   "metadata": {},
   "outputs": [],
   "source": [
    "import rioxarray"
   ]
  },
  {
   "cell_type": "code",
   "execution_count": null,
   "id": "865d8897-346e-49b6-ac15-675a4cebde15",
   "metadata": {},
   "outputs": [],
   "source": [
    "nir_href = assets[\"nir\"].href\n",
    "nir = rioxarray.open_rasterio(nir_href)\n",
    "nir"
   ]
  },
  {
   "cell_type": "markdown",
   "id": "c448773a-5b3c-4671-a5e8-78d8282dd26f",
   "metadata": {},
   "source": [
    "**Note**: At this stage the `nir` DataArray that we defined is empty, and only the metadata of the scene is loaded from the target href. This is consistent with `open_rasterio` function behavior, and you will learn more about it later in the class. \n",
    "When you run any function on `nir` or call any of the built-in function (e.g. `mean()`) the data will be loaded to memory. "
   ]
  },
  {
   "cell_type": "markdown",
   "id": "6a916ad5-1ea1-45fa-b6b0-bc54770cc380",
   "metadata": {},
   "source": [
    "First, let's plot part of the `nir` array. "
   ]
  },
  {
   "cell_type": "code",
   "execution_count": null,
   "id": "bb80a74a-b389-4ad5-acff-d57d7da33785",
   "metadata": {
    "tags": []
   },
   "outputs": [],
   "source": [
    "import matplotlib.pyplot as plt"
   ]
  },
  {
   "cell_type": "code",
   "execution_count": null,
   "id": "175d6973-4ed7-4292-a3a1-6ba32feaeb54",
   "metadata": {
    "tags": []
   },
   "outputs": [],
   "source": [
    "plt.imshow(nir[0,1500:2000,6200:7000], cmap='gray')"
   ]
  },
  {
   "cell_type": "markdown",
   "id": "2edea6f7-4f19-4952-8ed0-de5a2def90c9",
   "metadata": {},
   "source": [
    "In this case, only the portion of the array that we wanted to visualize was loaded. "
   ]
  },
  {
   "cell_type": "markdown",
   "id": "82a868ea-2761-4501-beee-1fa298102a6d",
   "metadata": {},
   "source": [
    "We can actually time the operation of plotting the whole scene vs the small portion we selected, and see the efficiency of using this approach. "
   ]
  },
  {
   "cell_type": "code",
   "execution_count": null,
   "id": "3c241dc3-ae4c-4419-9059-57bd224e42e3",
   "metadata": {
    "tags": []
   },
   "outputs": [],
   "source": [
    "%%timeit -n 5 -r 1\n",
    "plt.imshow(nir[0,1500:2000,6200:7000], cmap='gray')"
   ]
  },
  {
   "cell_type": "code",
   "execution_count": null,
   "id": "a828f0c7-2d93-407e-9ca2-593fab8b5e6e",
   "metadata": {
    "tags": []
   },
   "outputs": [],
   "source": [
    "%%timeit -n 5 -r 1\n",
    "plt.imshow(nir[0, :, :], cmap='gray')"
   ]
  },
  {
   "cell_type": "markdown",
   "id": "0c2b71cf-623c-4418-b874-1400775df162",
   "metadata": {},
   "source": [
    "Lastly, you can save this array into a GeoTIFF file as following:"
   ]
  },
  {
   "cell_type": "code",
   "execution_count": null,
   "id": "91f3a9a2-9a38-4a0e-a051-51ab5855c5d3",
   "metadata": {},
   "outputs": [],
   "source": [
    "nir[0,1500:2000,6200:7000].rio.to_raster(\"nir_subset.tif\")"
   ]
  },
  {
   "cell_type": "code",
   "execution_count": null,
   "id": "88b2322a-a7d1-484a-85f6-b6079c4b1a78",
   "metadata": {},
   "outputs": [],
   "source": []
  }
 ],
 "metadata": {
  "kernelspec": {
   "display_name": "Python 3 (ipykernel)",
   "language": "python",
   "name": "python3"
  },
  "language_info": {
   "codemirror_mode": {
    "name": "ipython",
    "version": 3
   },
   "file_extension": ".py",
   "mimetype": "text/x-python",
   "name": "python",
   "nbconvert_exporter": "python",
   "pygments_lexer": "ipython3",
   "version": "3.10.12"
  }
 },
 "nbformat": 4,
 "nbformat_minor": 5
}
